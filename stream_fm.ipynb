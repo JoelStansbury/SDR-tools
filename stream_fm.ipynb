{
 "cells": [
  {
   "cell_type": "code",
   "execution_count": null,
   "id": "11568681-1924-4025-aed1-296c860685d7",
   "metadata": {},
   "outputs": [],
   "source": [
    "import IPython.display as ipd\n",
    "from scipy.io import wavfile as wav\n",
    "import matplotlib.pyplot as plt\n",
    "import sounddevice as sd\n",
    "from sdr.audio import Stream\n",
    "from pathlib import Path\n",
    "import subprocess\n",
    "import time\n",
    "\n",
    "import numpy as np"
   ]
  },
  {
   "cell_type": "code",
   "execution_count": null,
   "id": "3ae39204-5406-4c3a-af0c-1f28e3f12f4e",
   "metadata": {},
   "outputs": [],
   "source": [
    "launch_wsl = subprocess.Popen([\"wsl\", \"-d\", \"Ubuntu\"])\n",
    "subprocess.call([\"usbipd\", \"attach\", \"-b\", \"1-14\", \"-w\"])"
   ]
  },
  {
   "cell_type": "code",
   "execution_count": null,
   "id": "c30eab70-79f4-4a29-9c5e-2b42566c86e2",
   "metadata": {},
   "outputs": [],
   "source": [
    "def yield_frames(command, blocksize, t=5):\n",
    "    bytes_per_frame = 2  # 16-bit integer\n",
    "    read_length = blocksize * bytes_per_frame\n",
    "    \n",
    "    # Start the subprocess with the provided command\n",
    "    process = subprocess.Popen(command, stdout=subprocess.PIPE)\n",
    "    \n",
    "    # Read binary data from the subprocess stdout in chunks\n",
    "    t0 = time.time()\n",
    "    while (time.time() - t0) < t:\n",
    "        # Read a chunk of binary data (16 bits = 2 bytes)\n",
    "        chunk = process.stdout.read(read_length)\n",
    "        \n",
    "        # If no more data is available, break the loop\n",
    "        if not chunk:\n",
    "            break\n",
    "        \n",
    "        # Convert the binary data to an integer (assuming little-endian byte order)\n",
    "        block = np.frombuffer(chunk, dtype=\"int16\").reshape((blocksize, 1))\n",
    "        \n",
    "        # Yield the integer data\n",
    "        yield block\n",
    "\n",
    "    # Close the subprocess after reading all data\n",
    "    process.stdout.close()\n",
    "    process.wait()"
   ]
  },
  {
   "cell_type": "code",
   "execution_count": null,
   "id": "0622206e-177c-4c48-a8fd-b5205ab86f2c",
   "metadata": {
    "scrolled": true
   },
   "outputs": [],
   "source": [
    "blocksize=2048\n",
    "rate = 44100\n",
    "frequency_mhz = 94.9\n",
    "cmd = [\n",
    "    \"wsl\", \"--exec\", \"rtl_fm\", \"-f\", f\"{frequency_mhz}M\", \"-s\", str(rate*5), \"-r\", str(rate)\n",
    "]"
   ]
  },
  {
   "cell_type": "code",
   "execution_count": null,
   "id": "d3a273fc-f1c1-4488-874d-abe936e3b833",
   "metadata": {
    "scrolled": true
   },
   "outputs": [],
   "source": [
    "s = Stream(\n",
    "    source=yield_frames(\n",
    "        cmd, \n",
    "        blocksize,\n",
    "        t=30\n",
    "    ), \n",
    "    rate=rate,\n",
    "    blocksize=blocksize,\n",
    "    channels=1\n",
    ")\n",
    "s.start()"
   ]
  },
  {
   "cell_type": "code",
   "execution_count": null,
   "id": "e9b6a03d-9131-4a47-9f26-eff3fac3255c",
   "metadata": {},
   "outputs": [],
   "source": []
  }
 ],
 "metadata": {
  "kernelspec": {
   "display_name": "Python 3 (ipykernel)",
   "language": "python",
   "name": "python3"
  },
  "language_info": {
   "codemirror_mode": {
    "name": "ipython",
    "version": 3
   },
   "file_extension": ".py",
   "mimetype": "text/x-python",
   "name": "python",
   "nbconvert_exporter": "python",
   "pygments_lexer": "ipython3",
   "version": "3.12.3"
  }
 },
 "nbformat": 4,
 "nbformat_minor": 5
}
